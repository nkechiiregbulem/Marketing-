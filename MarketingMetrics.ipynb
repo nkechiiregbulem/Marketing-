{
 "cells": [
  {
   "cell_type": "markdown",
   "metadata": {},
   "source": [
    "# Marketing Metrics"
   ]
  },
  {
   "cell_type": "markdown",
   "metadata": {},
   "source": [
    "## Conversion Rate"
   ]
  },
  {
   "cell_type": "markdown",
   "metadata": {},
   "source": [
    "- Conversion rate is the percentage of visitors to your website that complete a desired goal (a conversion) out of hte total number of visitors. A high conversion rate is indicative of successful marketing and web design"
   ]
  },
  {
   "cell_type": "markdown",
   "metadata": {},
   "source": [
    "- The conversion rate is the number of conversions divided by the total number of visitors"
   ]
  },
  {
   "cell_type": "code",
   "execution_count": null,
   "metadata": {},
   "outputs": [],
   "source": [
    "def conversion():\n",
    "    visitors = input(\"Enter number of visitors?\")\n",
    "    visitors_val = int(visitors)\n",
    "    print(\"Site Visitors:\", visitors)\n",
    "    action = input(\"Enter number of conversions?\")\n",
    "    action_val = int(action)\n",
    "    print(\"Conversions:\", action)\n",
    "    CVR = action_val/visitors_val\n",
    "    print(\"Conversion Rate:\",(\"{:.0%}\".format(CVR)))"
   ]
  },
  {
   "cell_type": "code",
   "execution_count": null,
   "metadata": {},
   "outputs": [],
   "source": [
    "conversion()"
   ]
  },
  {
   "cell_type": "markdown",
   "metadata": {},
   "source": [
    "# ROI (Return on Investment)"
   ]
  },
  {
   "cell_type": "markdown",
   "metadata": {},
   "source": [
    "- ROI is a measurement tool used to calculate the effectiveness and value of an investmen. It shows the gain and/or loss of an investment by comparing and measuring the amount of return on an investment with the investment costs"
   ]
  },
  {
   "cell_type": "markdown",
   "metadata": {},
   "source": [
    "- ROI = (Net Profit/Cost of Investment)x100"
   ]
  },
  {
   "cell_type": "code",
   "execution_count": null,
   "metadata": {},
   "outputs": [],
   "source": [
    "def ROI():\n",
    "    loc = input(\"Where did your investment go?\")\n",
    "    cost = input(\"What was the Cost of Investment?\")\n",
    "    cost_val = int(cost)\n",
    "    net_profit = input(\"How much profit did you make?\")\n",
    "    net_profit_val = int(net_profit)\n",
    "    return_on_investment = ((net_profit_val/cost_val)*100)\n",
    "    print(loc,\"Investment: $\", cost)\n",
    "    print(\"Net Profit: $\", net_profit)\n",
    "    print(return_on_investment, \"%\")"
   ]
  },
  {
   "cell_type": "code",
   "execution_count": null,
   "metadata": {},
   "outputs": [],
   "source": [
    "ROI()"
   ]
  },
  {
   "cell_type": "markdown",
   "metadata": {},
   "source": [
    "# CPA (Cost Per Acquisition)"
   ]
  },
  {
   "cell_type": "markdown",
   "metadata": {},
   "source": [
    "- Measures that amount a business has paid to attain a conversion. It is used to define a marketing strategy that allows advertisers to pay for a specified action"
   ]
  },
  {
   "cell_type": "markdown",
   "metadata": {},
   "source": [
    "- CPA campaigns are relatively low-risk, as costs are only accumulated once the desired action has occured"
   ]
  },
  {
   "cell_type": "code",
   "execution_count": null,
   "metadata": {},
   "outputs": [],
   "source": [
    "def CPA():\n",
    "    action = input(\"What is the action you investing in?\")\n",
    "    cost = input(\"Cost of Investment?\")\n",
    "    cost_val = int(cost)\n",
    "    conversions = input(\"Enter Conversions\")\n",
    "    conversions_val = int(conversions)\n",
    "    CPA_calc = cost_val/conversions_val\n",
    "    print(\"Cost of Action: $\", CPA_calc)\n",
    "    print(\"# of New Conversions: \", conversions_val)\n",
    "    print(\"CPA: $\", CPA_calc)"
   ]
  },
  {
   "cell_type": "code",
   "execution_count": null,
   "metadata": {},
   "outputs": [],
   "source": [
    "CPA()"
   ]
  },
  {
   "cell_type": "markdown",
   "metadata": {},
   "source": [
    "# ROAS (Return on Advertising Spend)"
   ]
  },
  {
   "cell_type": "markdown",
   "metadata": {},
   "source": [
    "- Used to measure the profit made from advertising. The most useful metric to evaluate the performance of marketing campaigns, as it measures how much revenue you get back on each dollar spent on advertising"
   ]
  },
  {
   "cell_type": "markdown",
   "metadata": {},
   "source": [
    "- ROAS = (Ad revenue/Cost of ad source)"
   ]
  },
  {
   "cell_type": "code",
   "execution_count": null,
   "metadata": {},
   "outputs": [],
   "source": [
    "def ROAS():\n",
    "    ad_source = input(\"Type of Ad Source?\")\n",
    "    cost = input(\"Cost of ad source?\")\n",
    "    cost_val = int(cost)\n",
    "    revenue = input (\"Ad Revenue generated\")\n",
    "    revenue_val = int(revenue)\n",
    "    roas_cal = revenue_val/cost_val\n",
    "    print(\"Cost of \", ad_source, \": $\", cost)\n",
    "    print(\"Ad Revenue generated: $\", revenue)\n",
    "    print(\"ROAS for\", ad_source, \"is = $\", roas_cal)"
   ]
  },
  {
   "cell_type": "code",
   "execution_count": null,
   "metadata": {},
   "outputs": [],
   "source": [
    "ROAS()"
   ]
  },
  {
   "cell_type": "markdown",
   "metadata": {},
   "source": [
    "# Customer Retention Rate"
   ]
  },
  {
   "cell_type": "markdown",
   "metadata": {},
   "source": [
    "- CRR is a metric used to calculate how loyal your customers are. Determining how dedicated a customer is to your company allows you to improve business strategies. If customers stay with your business longer, you'll maximize your revenue"
   ]
  },
  {
   "cell_type": "markdown",
   "metadata": {},
   "source": [
    "- Customer Retention Rate = (Customer's End Period - New Customers for this Period)/Customers at Start of the Period x 100"
   ]
  },
  {
   "cell_type": "code",
   "execution_count": null,
   "metadata": {},
   "outputs": [],
   "source": [
    "def CRR():\n",
    "    period = input(\"Enter Month of the period\")\n",
    "    CS = input(\"Customers at the start of the Period\")\n",
    "    CS_val = int(CS)\n",
    "    new_customers = input(\"How many new customers?\")\n",
    "    NC_val = int(new_customers)\n",
    "    CE = input(\"Customers at the end of the period?\")\n",
    "    CE_val = int(CE)\n",
    "    crr_calc = ((CE_val - NC_val)/CS_val)*100\n",
    "    print(\"Customer Retention Rate for the period of \", period, \":\", crr_calc, \"%\")"
   ]
  },
  {
   "cell_type": "code",
   "execution_count": null,
   "metadata": {},
   "outputs": [],
   "source": [
    "CRR()"
   ]
  },
  {
   "cell_type": "code",
   "execution_count": null,
   "metadata": {},
   "outputs": [],
   "source": []
  }
 ],
 "metadata": {
  "kernelspec": {
   "display_name": "Python 3",
   "language": "python",
   "name": "python3"
  },
  "language_info": {
   "codemirror_mode": {
    "name": "ipython",
    "version": 3
   },
   "file_extension": ".py",
   "mimetype": "text/x-python",
   "name": "python",
   "nbconvert_exporter": "python",
   "pygments_lexer": "ipython3",
   "version": "3.7.3"
  }
 },
 "nbformat": 4,
 "nbformat_minor": 2
}
